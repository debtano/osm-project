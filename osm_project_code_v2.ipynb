{
 "cells": [
  {
   "cell_type": "code",
   "execution_count": 25,
   "metadata": {
    "collapsed": true
   },
   "outputs": [],
   "source": [
    "import xml.etree.cElementTree as ET\n",
    "from collections import defaultdict\n",
    "import re\n",
    "import pprint\n",
    "from xml.etree.ElementTree import parse\n",
    "from unidecode import unidecode"
   ]
  },
  {
   "cell_type": "code",
   "execution_count": 26,
   "metadata": {
    "collapsed": true
   },
   "outputs": [],
   "source": [
    "# Reference to Data Auditing process (project_submission_doc.pdf)\n",
    "# 1) Provide a programmable reference to correct data\n",
    "import normalized_stations"
   ]
  },
  {
   "cell_type": "code",
   "execution_count": 27,
   "metadata": {
    "collapsed": true
   },
   "outputs": [],
   "source": [
    "# Reference to Data Auditing process (project_submission_doc.pdf)\n",
    "# 2) Sample the OSM file and clean station names\n",
    "actual_stations = []\n",
    "decoded_stations = {}\n",
    "\n",
    "\n",
    "def parse_and_collect_nodes(osmfile):\n",
    "    osm_file = open(osmfile, \"r\")\n",
    "    doc = ET.iterparse(osm_file, events=(\"start\",\"end\"))\n",
    "    try:\n",
    "        for event, elem in doc:\n",
    "            if event == \"start\" and elem.tag == \"node\":\n",
    "                process_every_node(elem.iter(\"tag\"))\n",
    "            elif event == \"end\":\n",
    "                continue\n",
    "    except:\n",
    "        print \"End of file reached\"\n",
    "\n",
    "def process_every_node(itero):\n",
    "    k_tags = []\n",
    "    v_tags = []\n",
    "    for tag in itero:\n",
    "        k_tags.append(tag.attrib['k']) \n",
    "        v_tags.append(tag.attrib['v'])\n",
    "    extract_stations(k_tags, v_tags)    \n",
    "\n",
    "def extract_stations(k_tags, v_tags):\n",
    "    if \"subway\" in k_tags:\n",
    "        actual_stations.append(v_tags[0])\n",
    "\n",
    "def to_ascii_actual_stations():\n",
    "    for index, station in enumerate(actual_stations):\n",
    "        # decoded_stations.append(unidecode(station))\n",
    "        decoded_stations[index] = unidecode(station)"
   ]
  },
  {
   "cell_type": "code",
   "execution_count": 28,
   "metadata": {
    "collapsed": false
   },
   "outputs": [],
   "source": [
    "# Reference to Data Auditing process (project_submission_doc.pdf)\n",
    "# 3) First pass stations and the rest and 4) Dealing with the “no match” stations names\n",
    "match_stations   = {}\n",
    "nomatch_stations = {}\n",
    "dict_of_tokeners = {}\n",
    "final_review_nomatch = []\n",
    "\n",
    "tokens_to_ignore = [\" de \", \" los \", \"-\", \" La \", \" Los \", \"los\", \"\\(E\\)\", \"\\(C\\)\", \"\\(D\\)\"]\n",
    "## split each station name in final_normalization in tokens ignoring the ones in tokens_to_ignore\n",
    "pattern = '|'.join(tokens_to_ignore)\n",
    "\n",
    "# irst pass of the actual_stations collected from OSM through a compare with official stations\n",
    "def split_match_nomatch_stations():\n",
    "    for key in decoded_stations.keys():\n",
    "        if decoded_stations[key] in normalized_stations.all_stations():\n",
    "            # print \"found : {}, index: {}\".format(decoded_stations[key],key)\n",
    "            match_stations[key] = decoded_stations[key]\n",
    "        else:\n",
    "            nomatch_stations[key] = decoded_stations[key]\n",
    "\n",
    "def split_nomatch():\n",
    "    for key in nomatch_stations.keys():        \n",
    "        tokeners = re.sub(pattern, ' ', nomatch_stations[key])\n",
    "        dict_of_tokeners[key] = tokeners\n",
    "\n",
    "def review_nomatch(tokener, key):\n",
    "    nomatch_dict_key = key\n",
    "    tokis = tokener.split()\n",
    "    match_counter = defaultdict(int)\n",
    "    for station in normalized_stations.all_stations():\n",
    "        for tok in tokis:\n",
    "            if tok in station:\n",
    "                match_counter[station] += 1\n",
    "                # print \"nomatch_dict_key {} || station {} || complete {} || count {}\".format(nomatch_dict_key,station,nomatch_stations[nomatch_dict_key], match_counter[station])\n",
    "                # format(nomatch_dict_key,station,nomatch_stations[nomatch_dict_key], match_counter[station])\n",
    "                datum = {\"nomatch_key\" : nomatch_dict_key, \"norm_station\" : station, \"nomatch_station\" : nomatch_stations[nomatch_dict_key], \"count\" : match_counter[station]}\n",
    "                final_review_nomatch.append(datum)\n",
    "\n"
   ]
  },
  {
   "cell_type": "code",
   "execution_count": 29,
   "metadata": {
    "collapsed": true
   },
   "outputs": [],
   "source": [
    "OSMFILE = \"bs_as_subway.osm\""
   ]
  },
  {
   "cell_type": "code",
   "execution_count": null,
   "metadata": {
    "collapsed": false
   },
   "outputs": [],
   "source": [
    "# Auditing process execution"
   ]
  },
  {
   "cell_type": "code",
   "execution_count": 30,
   "metadata": {
    "collapsed": false
   },
   "outputs": [
    {
     "name": "stdout",
     "output_type": "stream",
     "text": [
      "End of file reached\n"
     ]
    }
   ],
   "source": [
    "parse_and_collect_nodes(OSMFILE)\n",
    "# calls process_every_node()\n",
    "# --> calls extract_stations"
   ]
  },
  {
   "cell_type": "code",
   "execution_count": 31,
   "metadata": {
    "collapsed": false
   },
   "outputs": [],
   "source": [
    "to_ascii_actual_stations()"
   ]
  },
  {
   "cell_type": "code",
   "execution_count": 32,
   "metadata": {
    "collapsed": true
   },
   "outputs": [],
   "source": [
    "split_match_nomatch_stations()"
   ]
  },
  {
   "cell_type": "code",
   "execution_count": 33,
   "metadata": {
    "collapsed": true
   },
   "outputs": [],
   "source": [
    "split_nomatch()"
   ]
  },
  {
   "cell_type": "code",
   "execution_count": 36,
   "metadata": {
    "collapsed": false
   },
   "outputs": [],
   "source": [
    "for key in dict_of_tokeners.keys():\n",
    "    review_nomatch(dict_of_tokeners[key], key)"
   ]
  },
  {
   "cell_type": "code",
   "execution_count": 44,
   "metadata": {
    "collapsed": false
   },
   "outputs": [],
   "source": [
    "for dat in final_review_nomatch:\n",
    "    # print dat\n",
    "    pass"
   ]
  },
  {
   "cell_type": "code",
   "execution_count": 45,
   "metadata": {
    "collapsed": false
   },
   "outputs": [],
   "source": [
    "for dat in nomatch_stations.keys():\n",
    "    datum = {\"station_id\" : dat, \"station_name\" : nomatch_stations[dat], \"match\" : \"no\"}\n",
    "    # print datum\n",
    "    pass"
   ]
  },
  {
   "cell_type": "code",
   "execution_count": 46,
   "metadata": {
    "collapsed": false
   },
   "outputs": [],
   "source": [
    "for dat in match_stations.keys():\n",
    "    datum = {\"station_id\" : dat, \"station_name\" : match_stations[dat], \"match\" : \"yes\"}\n",
    "    # print datum\n",
    "    pass"
   ]
  },
  {
   "cell_type": "code",
   "execution_count": 48,
   "metadata": {
    "collapsed": false
   },
   "outputs": [],
   "source": [
    "for dat in decoded_stations.keys():\n",
    "    datum = {\"station_id\" : dat, \"station_name\" : decoded_stations[dat]}\n",
    "    # print datum\n",
    "    pass"
   ]
  },
  {
   "cell_type": "code",
   "execution_count": 55,
   "metadata": {
    "collapsed": false
   },
   "outputs": [
    {
     "name": "stdout",
     "output_type": "stream",
     "text": [
      "{'station_name': 'Plaza de Mayo', 'line': 'A'}\n",
      "{'station_name': 'Peru', 'line': 'A'}\n",
      "{'station_name': 'Piedras', 'line': 'A'}\n",
      "{'station_name': 'Lima', 'line': 'A'}\n",
      "{'station_name': 'Saenz Pena', 'line': 'A'}\n",
      "{'station_name': 'Congreso', 'line': 'A'}\n",
      "{'station_name': 'Pasco', 'line': 'A'}\n",
      "{'station_name': 'Alberti', 'line': 'A'}\n",
      "{'station_name': 'Plaza Miserere', 'line': 'A'}\n",
      "{'station_name': 'Loria', 'line': 'A'}\n",
      "{'station_name': 'Castro Barros', 'line': 'A'}\n",
      "{'station_name': 'Rio de Janeiro', 'line': 'A'}\n",
      "{'station_name': 'Acoyte', 'line': 'A'}\n",
      "{'station_name': 'Primera Junta', 'line': 'A'}\n",
      "{'station_name': 'Puan', 'line': 'A'}\n",
      "{'station_name': 'Carabobo', 'line': 'A'}\n",
      "{'station_name': 'San Jose de Flores', 'line': 'A'}\n",
      "{'station_name': 'San Pedrito', 'line': 'A'}\n",
      "{'station_name': 'Leandro N. Alem', 'line': 'B'}\n",
      "{'station_name': 'Florida', 'line': 'B'}\n",
      "{'station_name': 'Carlos Pellegrini', 'line': 'B'}\n",
      "{'station_name': 'Uruguay', 'line': 'B'}\n",
      "{'station_name': 'Callao', 'line': 'B'}\n",
      "{'station_name': 'Pasteur Amia', 'line': 'B'}\n",
      "{'station_name': 'Pueyrredon', 'line': 'B'}\n",
      "{'station_name': 'Carlos Gardel', 'line': 'B'}\n",
      "{'station_name': 'Medrano', 'line': 'B'}\n",
      "{'station_name': 'Angel Gallardo', 'line': 'B'}\n",
      "{'station_name': 'Malabia O. Pugliese', 'line': 'B'}\n",
      "{'station_name': 'Dorrego', 'line': 'B'}\n",
      "{'station_name': 'F. Lacroze', 'line': 'B'}\n",
      "{'station_name': 'Tronador Villa Ortuzar', 'line': 'B'}\n",
      "{'station_name': 'De los Incas Parque Chas', 'line': 'B'}\n",
      "{'station_name': 'Echeverria', 'line': 'B'}\n",
      "{'station_name': 'Juan Manuel de Rosas Villa Urquiza', 'line': 'B'}\n",
      "{'station_name': 'Retiro', 'line': 'C'}\n",
      "{'station_name': 'General San Martin', 'line': 'C'}\n",
      "{'station_name': 'Lavalle', 'line': 'C'}\n",
      "{'station_name': 'Diagonal Norte', 'line': 'C'}\n",
      "{'station_name': 'Av. de Mayo', 'line': 'C'}\n",
      "{'station_name': 'Moreno', 'line': 'C'}\n",
      "{'station_name': 'Independencia', 'line': 'C'}\n",
      "{'station_name': 'San Juan', 'line': 'C'}\n",
      "{'station_name': 'Constitucion', 'line': 'C'}\n",
      "{'station_name': 'Catedral', 'line': 'D'}\n",
      "{'station_name': '9 de Julio', 'line': 'D'}\n",
      "{'station_name': 'Tribunales Teatro Colon', 'line': 'D'}\n",
      "{'station_name': 'Callao', 'line': 'D'}\n",
      "{'station_name': 'Facultad de Medicina', 'line': 'D'}\n",
      "{'station_name': 'Pueyrredon', 'line': 'D'}\n",
      "{'station_name': 'Aguero', 'line': 'D'}\n",
      "{'station_name': 'Bulnes', 'line': 'D'}\n",
      "{'station_name': 'Scalabrini Ortiz', 'line': 'D'}\n",
      "{'station_name': 'Plaza Italia', 'line': 'D'}\n",
      "{'station_name': 'Palermo', 'line': 'D'}\n",
      "{'station_name': 'Ministro Carranza', 'line': 'D'}\n",
      "{'station_name': 'Olleros', 'line': 'D'}\n",
      "{'station_name': 'Jose Hernandez', 'line': 'D'}\n",
      "{'station_name': 'Juramento', 'line': 'D'}\n",
      "{'station_name': 'Congreso de Tucuman', 'line': 'D'}\n",
      "{'station_name': 'Bolivar', 'line': 'E'}\n",
      "{'station_name': 'Belgrano', 'line': 'E'}\n",
      "{'station_name': 'Independencia', 'line': 'E'}\n",
      "{'station_name': 'San Jose', 'line': 'E'}\n",
      "{'station_name': 'Entre Rios Rodolfo Walsh', 'line': 'E'}\n",
      "{'station_name': 'Pichincha', 'line': 'E'}\n",
      "{'station_name': 'Jujuy', 'line': 'E'}\n",
      "{'station_name': 'Gral. Urquiza', 'line': 'E'}\n",
      "{'station_name': 'Boedo', 'line': 'E'}\n",
      "{'station_name': 'Av. La Plata', 'line': 'E'}\n",
      "{'station_name': 'Jose Maria Moreno', 'line': 'E'}\n",
      "{'station_name': 'Emilio Mitre', 'line': 'E'}\n",
      "{'station_name': 'Medalla Milagrosa', 'line': 'E'}\n",
      "{'station_name': 'Varela', 'line': 'E'}\n",
      "{'station_name': 'Plaza de los Virreyes Eva Peron', 'line': 'E'}\n",
      "{'station_name': 'Las Heras', 'line': 'H'}\n",
      "{'station_name': 'Santa Fe Carlos Jauregui', 'line': 'H'}\n",
      "{'station_name': 'Cordoba', 'line': 'H'}\n",
      "{'station_name': 'Corrientes', 'line': 'H'}\n",
      "{'station_name': 'Once - 30 de Diciembre', 'line': 'H'}\n",
      "{'station_name': 'Venezuela', 'line': 'H'}\n",
      "{'station_name': 'Humberto I', 'line': 'H'}\n",
      "{'station_name': 'Inclan', 'line': 'H'}\n",
      "{'station_name': 'Caseros', 'line': 'H'}\n",
      "{'station_name': 'Parque Patricios', 'line': 'H'}\n",
      "{'station_name': 'Hospitales', 'line': 'H'}\n",
      "{'station_name': 'Int. Saguier', 'line': 'P'}\n",
      "{'station_name': 'Balbastro', 'line': 'P'}\n",
      "{'station_name': 'Mariano Acosta', 'line': 'P'}\n",
      "{'station_name': 'Somellera', 'line': 'P'}\n",
      "{'station_name': 'Ana Maria Janer', 'line': 'P'}\n",
      "{'station_name': 'Ntra. Sra. de Fatima', 'line': 'P'}\n",
      "{'station_name': 'Fernandez de la Cruz', 'line': 'P'}\n",
      "{'station_name': 'Pte. Illia', 'line': 'P'}\n",
      "{'station_name': 'Parque de la Ciudad', 'line': 'P'}\n",
      "{'station_name': 'Cecilia Grierson', 'line': 'P'}\n",
      "{'station_name': 'Escalada', 'line': 'P'}\n",
      "{'station_name': 'Pola', 'line': 'P'}\n",
      "{'station_name': 'Ana Diaz', 'line': 'P'}\n",
      "{'station_name': 'Centro Civico Lugano', 'line': 'P'}\n",
      "{'station_name': 'Larrazabal', 'line': 'P'}\n",
      "{'station_name': 'Nicolas Descalzi', 'line': 'P'}\n",
      "{'station_name': 'Gabino Ezeiza', 'line': 'P'}\n",
      "{'station_name': 'General Savio', 'line': 'P'}\n"
     ]
    }
   ],
   "source": [
    "all_stations_dict_list = []\n",
    "\n",
    "def process_stations_by_lines(line, stations):\n",
    "    for station in stations:\n",
    "        dico = {\"station_name\"  : station, \"line\" : line}\n",
    "        all_stations_dict_list.append(dico)\n",
    "\n",
    "\n",
    "lines = [\"A\",\"B\",\"C\",\"D\",\"E\",\"H\",\"P\"]\n",
    "for line in lines:\n",
    "    stations = []\n",
    "    stations = normalized_stations.stations_by_line(line)\n",
    "    process_stations_by_lines(line, stations)\n",
    "\n",
    "for datum in all_stations_dict_list:\n",
    "    print datum\n",
    "    \n"
   ]
  },
  {
   "cell_type": "code",
   "execution_count": null,
   "metadata": {
    "collapsed": true
   },
   "outputs": [],
   "source": [
    "NOMATCH_STATIONS_TOKENS = \"nomatch_tokens.csv\"\n",
    "NOMATCH_STATIONS        = \"nomatch.csv\"\n",
    "MATCH_STATIONS          = \"match.csv\"\n",
    "OFICIAL_STATIONS        = \"official.csv\""
   ]
  }
 ],
 "metadata": {
  "kernelspec": {
   "display_name": "Python 2",
   "language": "python",
   "name": "python2"
  },
  "language_info": {
   "codemirror_mode": {
    "name": "ipython",
    "version": 2
   },
   "file_extension": ".py",
   "mimetype": "text/x-python",
   "name": "python",
   "nbconvert_exporter": "python",
   "pygments_lexer": "ipython2",
   "version": "2.7.13"
  }
 },
 "nbformat": 4,
 "nbformat_minor": 2
}
