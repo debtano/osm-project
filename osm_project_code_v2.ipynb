{
 "cells": [
  {
   "cell_type": "code",
   "execution_count": 25,
   "metadata": {
    "collapsed": true
   },
   "outputs": [],
   "source": [
    "import xml.etree.cElementTree as ET\n",
    "from collections import defaultdict\n",
    "import re\n",
    "import pprint\n",
    "from xml.etree.ElementTree import parse\n",
    "from unidecode import unidecode"
   ]
  },
  {
   "cell_type": "code",
   "execution_count": 26,
   "metadata": {
    "collapsed": true
   },
   "outputs": [],
   "source": [
    "# Reference to Data Auditing process (project_submission_doc.pdf)\n",
    "# 1) Provide a programmable reference to correct data\n",
    "import normalized_stations"
   ]
  },
  {
   "cell_type": "code",
   "execution_count": 27,
   "metadata": {
    "collapsed": true
   },
   "outputs": [],
   "source": [
    "# Reference to Data Auditing process (project_submission_doc.pdf)\n",
    "# 2) Sample the OSM file and clean station names\n",
    "actual_stations = []\n",
    "decoded_stations = {}\n",
    "\n",
    "\n",
    "def parse_and_collect_nodes(osmfile):\n",
    "    osm_file = open(osmfile, \"r\")\n",
    "    doc = ET.iterparse(osm_file, events=(\"start\",\"end\"))\n",
    "    try:\n",
    "        for event, elem in doc:\n",
    "            if event == \"start\" and elem.tag == \"node\":\n",
    "                process_every_node(elem.iter(\"tag\"))\n",
    "            elif event == \"end\":\n",
    "                continue\n",
    "    except:\n",
    "        print \"End of file reached\"\n",
    "\n",
    "def process_every_node(itero):\n",
    "    k_tags = []\n",
    "    v_tags = []\n",
    "    for tag in itero:\n",
    "        k_tags.append(tag.attrib['k']) \n",
    "        v_tags.append(tag.attrib['v'])\n",
    "    extract_stations(k_tags, v_tags)    \n",
    "\n",
    "def extract_stations(k_tags, v_tags):\n",
    "    if \"subway\" in k_tags:\n",
    "        actual_stations.append(v_tags[0])\n",
    "\n",
    "def to_ascii_actual_stations():\n",
    "    for index, station in enumerate(actual_stations):\n",
    "        # decoded_stations.append(unidecode(station))\n",
    "        decoded_stations[index] = unidecode(station)"
   ]
  },
  {
   "cell_type": "code",
   "execution_count": 28,
   "metadata": {
    "collapsed": false
   },
   "outputs": [],
   "source": [
    "# Reference to Data Auditing process (project_submission_doc.pdf)\n",
    "# 3) First pass stations and the rest and 4) Dealing with the “no match” stations names\n",
    "match_stations   = {}\n",
    "nomatch_stations = {}\n",
    "dict_of_tokeners = {}\n",
    "final_review_nomatch = []\n",
    "\n",
    "tokens_to_ignore = [\" de \", \" los \", \"-\", \" La \", \" Los \", \"los\", \"\\(E\\)\", \"\\(C\\)\", \"\\(D\\)\"]\n",
    "## split each station name in final_normalization in tokens ignoring the ones in tokens_to_ignore\n",
    "pattern = '|'.join(tokens_to_ignore)\n",
    "\n",
    "# irst pass of the actual_stations collected from OSM through a compare with official stations\n",
    "def split_match_nomatch_stations():\n",
    "    for key in decoded_stations.keys():\n",
    "        if decoded_stations[key] in normalized_stations.all_stations():\n",
    "            # print \"found : {}, index: {}\".format(decoded_stations[key],key)\n",
    "            match_stations[key] = decoded_stations[key]\n",
    "        else:\n",
    "            nomatch_stations[key] = decoded_stations[key]\n",
    "\n",
    "def split_nomatch():\n",
    "    for key in nomatch_stations.keys():        \n",
    "        tokeners = re.sub(pattern, ' ', nomatch_stations[key])\n",
    "        dict_of_tokeners[key] = tokeners\n",
    "\n",
    "def review_nomatch(tokener, key):\n",
    "    nomatch_dict_key = key\n",
    "    tokis = tokener.split()\n",
    "    match_counter = defaultdict(int)\n",
    "    for station in normalized_stations.all_stations():\n",
    "        for tok in tokis:\n",
    "            if tok in station:\n",
    "                match_counter[station] += 1\n",
    "                # print \"nomatch_dict_key {} || station {} || complete {} || count {}\".format(nomatch_dict_key,station,nomatch_stations[nomatch_dict_key], match_counter[station])\n",
    "                # format(nomatch_dict_key,station,nomatch_stations[nomatch_dict_key], match_counter[station])\n",
    "                datum = {\"nomatch_key\" : nomatch_dict_key, \"norm_station\" : station, \"nomatch_station\" : nomatch_stations[nomatch_dict_key], \"count\" : match_counter[station]}\n",
    "                final_review_nomatch.append(datum)\n",
    "\n"
   ]
  },
  {
   "cell_type": "code",
   "execution_count": 29,
   "metadata": {
    "collapsed": true
   },
   "outputs": [],
   "source": [
    "OSMFILE = \"bs_as_subway.osm\""
   ]
  },
  {
   "cell_type": "code",
   "execution_count": null,
   "metadata": {
    "collapsed": false
   },
   "outputs": [],
   "source": [
    "# Auditing process execution"
   ]
  },
  {
   "cell_type": "code",
   "execution_count": 30,
   "metadata": {
    "collapsed": false
   },
   "outputs": [
    {
     "name": "stdout",
     "output_type": "stream",
     "text": [
      "End of file reached\n"
     ]
    }
   ],
   "source": [
    "parse_and_collect_nodes(OSMFILE)\n",
    "# calls process_every_node()\n",
    "# --> calls extract_stations"
   ]
  },
  {
   "cell_type": "code",
   "execution_count": 31,
   "metadata": {
    "collapsed": false
   },
   "outputs": [],
   "source": [
    "to_ascii_actual_stations()"
   ]
  },
  {
   "cell_type": "code",
   "execution_count": 32,
   "metadata": {
    "collapsed": true
   },
   "outputs": [],
   "source": [
    "split_match_nomatch_stations()"
   ]
  },
  {
   "cell_type": "code",
   "execution_count": 33,
   "metadata": {
    "collapsed": true
   },
   "outputs": [],
   "source": [
    "split_nomatch()"
   ]
  },
  {
   "cell_type": "code",
   "execution_count": 36,
   "metadata": {
    "collapsed": false
   },
   "outputs": [],
   "source": [
    "for key in dict_of_tokeners.keys():\n",
    "    review_nomatch(dict_of_tokeners[key], key)"
   ]
  },
  {
   "cell_type": "code",
   "execution_count": 37,
   "metadata": {
    "collapsed": false
   },
   "outputs": [
    {
     "name": "stdout",
     "output_type": "stream",
     "text": [
      "{'count': 1, 'norm_station': 'Plaza de Mayo', 'nomatch_station': 'Plaza de los Virreyes - Eva Peron', 'nomatch_key': 1}\n",
      "{'count': 1, 'norm_station': 'Plaza Miserere', 'nomatch_station': 'Plaza de los Virreyes - Eva Peron', 'nomatch_key': 1}\n",
      "{'count': 1, 'norm_station': 'Plaza Italia', 'nomatch_station': 'Plaza de los Virreyes - Eva Peron', 'nomatch_key': 1}\n",
      "{'count': 1, 'norm_station': 'Plaza de los Virreyes Eva Peron', 'nomatch_station': 'Plaza de los Virreyes - Eva Peron', 'nomatch_key': 1}\n",
      "{'count': 2, 'norm_station': 'Plaza de los Virreyes Eva Peron', 'nomatch_station': 'Plaza de los Virreyes - Eva Peron', 'nomatch_key': 1}\n",
      "{'count': 3, 'norm_station': 'Plaza de los Virreyes Eva Peron', 'nomatch_station': 'Plaza de los Virreyes - Eva Peron', 'nomatch_key': 1}\n",
      "{'count': 4, 'norm_station': 'Plaza de los Virreyes Eva Peron', 'nomatch_station': 'Plaza de los Virreyes - Eva Peron', 'nomatch_key': 1}\n",
      "{'count': 1, 'norm_station': 'Av. La Plata', 'nomatch_station': 'Avenida La Plata', 'nomatch_key': 6}\n",
      "{'count': 1, 'norm_station': 'Entre Rios Rodolfo Walsh', 'nomatch_station': 'Entre Rios - Rodolfo Walsh', 'nomatch_key': 11}\n",
      "{'count': 2, 'norm_station': 'Entre Rios Rodolfo Walsh', 'nomatch_station': 'Entre Rios - Rodolfo Walsh', 'nomatch_key': 11}\n",
      "{'count': 3, 'norm_station': 'Entre Rios Rodolfo Walsh', 'nomatch_station': 'Entre Rios - Rodolfo Walsh', 'nomatch_key': 11}\n",
      "{'count': 4, 'norm_station': 'Entre Rios Rodolfo Walsh', 'nomatch_station': 'Entre Rios - Rodolfo Walsh', 'nomatch_key': 11}\n",
      "{'count': 1, 'norm_station': 'Independencia', 'nomatch_station': 'Independencia (E)', 'nomatch_key': 14}\n",
      "{'count': 2, 'norm_station': 'Independencia', 'nomatch_station': 'Independencia (E)', 'nomatch_key': 14}\n",
      "{'count': 1, 'norm_station': 'Independencia', 'nomatch_station': 'Independencia (C)', 'nomatch_key': 15}\n",
      "{'count': 2, 'norm_station': 'Independencia', 'nomatch_station': 'Independencia (C)', 'nomatch_key': 15}\n",
      "{'count': 1, 'norm_station': 'Juan Manuel de Rosas Villa Urquiza', 'nomatch_station': 'General Urquiza', 'nomatch_key': 24}\n",
      "{'count': 1, 'norm_station': 'General San Martin', 'nomatch_station': 'General Urquiza', 'nomatch_key': 24}\n",
      "{'count': 1, 'norm_station': 'Gral. Urquiza', 'nomatch_station': 'General Urquiza', 'nomatch_key': 24}\n",
      "{'count': 1, 'norm_station': 'General Savio', 'nomatch_station': 'General Urquiza', 'nomatch_key': 24}\n",
      "{'count': 1, 'norm_station': 'Malabia O. Pugliese', 'nomatch_station': 'Malabia - Osvaldo Pugliese', 'nomatch_key': 58}\n",
      "{'count': 2, 'norm_station': 'Malabia O. Pugliese', 'nomatch_station': 'Malabia - Osvaldo Pugliese', 'nomatch_key': 58}\n",
      "{'count': 1, 'norm_station': 'Pasteur Amia', 'nomatch_station': 'Pasteur - AMIA', 'nomatch_key': 52}\n",
      "{'count': 1, 'norm_station': 'Alberti', 'nomatch_station': 'Inclan-Mezquita Al Ahmad', 'nomatch_key': 46}\n",
      "{'count': 1, 'norm_station': 'Leandro N. Alem', 'nomatch_station': 'Inclan-Mezquita Al Ahmad', 'nomatch_key': 46}\n",
      "{'count': 1, 'norm_station': 'Inclan', 'nomatch_station': 'Inclan-Mezquita Al Ahmad', 'nomatch_key': 46}\n",
      "{'count': 1, 'norm_station': 'Medrano', 'nomatch_station': 'Medrano-Almagro', 'nomatch_key': 56}\n",
      "{'count': 1, 'norm_station': 'Tribunales Teatro Colon', 'nomatch_station': 'Tribunales', 'nomatch_key': 26}\n",
      "{'count': 1, 'norm_station': 'Callao', 'nomatch_station': 'Callao (D)', 'nomatch_key': 27}\n",
      "{'count': 2, 'norm_station': 'Callao', 'nomatch_station': 'Callao (D)', 'nomatch_key': 27}\n",
      "{'count': 1, 'norm_station': 'F. Lacroze', 'nomatch_station': 'Federico Lacroze', 'nomatch_key': 60}\n",
      "{'count': 1, 'norm_station': 'Tronador Villa Ortuzar', 'nomatch_station': 'Tronador - Villa Ortuzar', 'nomatch_key': 61}\n",
      "{'count': 2, 'norm_station': 'Tronador Villa Ortuzar', 'nomatch_station': 'Tronador - Villa Ortuzar', 'nomatch_key': 61}\n",
      "{'count': 3, 'norm_station': 'Tronador Villa Ortuzar', 'nomatch_station': 'Tronador - Villa Ortuzar', 'nomatch_key': 61}\n",
      "{'count': 1, 'norm_station': 'Juan Manuel de Rosas Villa Urquiza', 'nomatch_station': 'Tronador - Villa Ortuzar', 'nomatch_key': 61}\n",
      "{'count': 1, 'norm_station': 'De los Incas Parque Chas', 'nomatch_station': 'Los Incas - Parque Chas', 'nomatch_key': 62}\n",
      "{'count': 2, 'norm_station': 'De los Incas Parque Chas', 'nomatch_station': 'Los Incas - Parque Chas', 'nomatch_key': 62}\n",
      "{'count': 3, 'norm_station': 'De los Incas Parque Chas', 'nomatch_station': 'Los Incas - Parque Chas', 'nomatch_key': 62}\n",
      "{'count': 1, 'norm_station': 'Parque Patricios', 'nomatch_station': 'Los Incas - Parque Chas', 'nomatch_key': 62}\n",
      "{'count': 1, 'norm_station': 'Parque de la Ciudad', 'nomatch_station': 'Los Incas - Parque Chas', 'nomatch_key': 62}\n",
      "{'count': 1, 'norm_station': 'Pueyrredon', 'nomatch_station': 'Pueyrredon (D)', 'nomatch_key': 31}\n",
      "{'count': 2, 'norm_station': 'Pueyrredon', 'nomatch_station': 'Pueyrredon (D)', 'nomatch_key': 31}\n"
     ]
    }
   ],
   "source": [
    "for dat in final_review_nomatch:\n",
    "    print dat"
   ]
  }
 ],
 "metadata": {
  "kernelspec": {
   "display_name": "Python 2",
   "language": "python",
   "name": "python2"
  },
  "language_info": {
   "codemirror_mode": {
    "name": "ipython",
    "version": 2
   },
   "file_extension": ".py",
   "mimetype": "text/x-python",
   "name": "python",
   "nbconvert_exporter": "python",
   "pygments_lexer": "ipython2",
   "version": "2.7.13"
  }
 },
 "nbformat": 4,
 "nbformat_minor": 2
}
