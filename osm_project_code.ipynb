{
 "cells": [
  {
   "cell_type": "code",
   "execution_count": 57,
   "metadata": {
    "collapsed": false
   },
   "outputs": [],
   "source": [
    "import xml.etree.cElementTree as ET\n",
    "from collections import defaultdict\n",
    "import re\n",
    "import pprint\n",
    "from xml.etree.ElementTree import parse\n",
    "import normalized_stations\n",
    "from unidecode import unidecode"
   ]
  },
  {
   "cell_type": "code",
   "execution_count": 58,
   "metadata": {
    "collapsed": true
   },
   "outputs": [],
   "source": [
    "OSMFILE = \"bs_as_subway.osm\"\n",
    "actual_stations = []\n",
    "decoded_stations = {}\n",
    "final_normalization = []\n",
    "match_stations   = {}\n",
    "nomatch_stations = {}"
   ]
  },
  {
   "cell_type": "code",
   "execution_count": 59,
   "metadata": {
    "collapsed": true
   },
   "outputs": [],
   "source": [
    "def extract_stations(k_tags, v_tags):\n",
    "    if \"subway\" in k_tags:\n",
    "        actual_stations.append(v_tags[0])\n",
    "        \n",
    "        \n",
    "def process_every_node(itero):\n",
    "    k_tags = []\n",
    "    v_tags = []\n",
    "    for tag in itero:\n",
    "        k_tags.append(tag.attrib['k']) \n",
    "        v_tags.append(tag.attrib['v'])\n",
    "    extract_stations(k_tags, v_tags)    \n"
   ]
  },
  {
   "cell_type": "code",
   "execution_count": 60,
   "metadata": {
    "collapsed": false
   },
   "outputs": [],
   "source": [
    "def parse_and_collect_nodes(osmfile):\n",
    "    osm_file = open(osmfile, \"r\")\n",
    "    doc = ET.iterparse(osm_file, events=(\"start\",\"end\"))\n",
    "    try:\n",
    "        for event, elem in doc:\n",
    "            if event == \"start\" and elem.tag == \"node\":\n",
    "                process_every_node(elem.iter(\"tag\"))\n",
    "            elif event == \"end\":\n",
    "                continue\n",
    "    except:\n",
    "        print \"End of file reached\""
   ]
  },
  {
   "cell_type": "code",
   "execution_count": 61,
   "metadata": {
    "collapsed": false
   },
   "outputs": [
    {
     "name": "stdout",
     "output_type": "stream",
     "text": [
      "End of file reached\n"
     ]
    }
   ],
   "source": [
    "parse_and_collect_nodes(OSMFILE)"
   ]
  },
  {
   "cell_type": "code",
   "execution_count": 7,
   "metadata": {
    "collapsed": false
   },
   "outputs": [],
   "source": [
    "# for station in actual_stations:\n",
    "#    print station"
   ]
  },
  {
   "cell_type": "code",
   "execution_count": 65,
   "metadata": {
    "collapsed": false
   },
   "outputs": [
    {
     "name": "stdout",
     "output_type": "stream",
     "text": [
      "1 Plaza de los Virreyes - Eva Peron\n",
      "6 Avenida La Plata\n",
      "11 Entre Rios - Rodolfo Walsh\n",
      "61 Tronador - Villa Ortuzar\n",
      "14 Independencia (E)\n",
      "15 Independencia (C)\n",
      "56 Medrano-Almagro\n",
      "52 Pasteur - AMIA\n",
      "46 Inclan-Mezquita Al Ahmad\n",
      "24 General Urquiza\n",
      "26 Tribunales\n",
      "27 Callao (D)\n",
      "60 Federico Lacroze\n",
      "58 Malabia - Osvaldo Pugliese\n",
      "62 Los Incas - Parque Chas\n",
      "31 Pueyrredon (D)\n"
     ]
    }
   ],
   "source": [
    "def to_ascii_actual_stations():\n",
    "    for index, station in enumerate(actual_stations):\n",
    "        # decoded_stations.append(unidecode(station))\n",
    "        decoded_stations[index] = unidecode(station)\n",
    "        \n",
    "def tobe_normalized_stations():\n",
    "    for station in decoded_stations:\n",
    "        if station not in normalized_stations.all_stations():\n",
    "            final_normalization.append(station)\n",
    "\n",
    "def split_match_nomatch_stations():\n",
    "    for key in decoded_stations.keys():\n",
    "        if decoded_stations[key] in normalized_stations.all_stations():\n",
    "            # print \"found : {}, index: {}\".format(decoded_stations[key],key)\n",
    "            match_stations[key] = decoded_stations[key]\n",
    "        else:\n",
    "            nomatch_stations[key] = decoded_stations[key]\n",
    "\n",
    "to_ascii_actual_stations()\n",
    "# tobe_normalized_stations()\n",
    "split_match_nomatch_stations()\n",
    "# pprint.pprint(match_stations)\n",
    "all_stations = 0\n",
    "print_actual = 0\n",
    "print_decoded = 0\n",
    "print_match = 0\n",
    "print_nomatch = 1\n",
    "\n",
    "if all_stations == 1:\n",
    "    for index, station in enumerate(normalized_stations.all_stations()):\n",
    "        print index, station\n",
    "elif print_actual == 1:\n",
    "    for index, station in enumerate(actual_stations):\n",
    "        print index, station\n",
    "elif print_decoded == 1:\n",
    "    for key in decoded_stations.keys():\n",
    "        print key, decoded_stations[key]\n",
    "elif print_match == 1:\n",
    "    for key in match_stations.keys():\n",
    "        print key, match_stations[key]\n",
    "elif print_nomatch == 1:\n",
    "    for key in nomatch_stations.keys():\n",
    "        print key, nomatch_stations[key]\n"
   ]
  },
  {
   "cell_type": "code",
   "execution_count": 13,
   "metadata": {
    "collapsed": false
   },
   "outputs": [],
   "source": [
    "# for norm_station in final_normalization:\n",
    "#    print norm_station"
   ]
  },
  {
   "cell_type": "code",
   "execution_count": 83,
   "metadata": {
    "collapsed": false
   },
   "outputs": [
    {
     "name": "stdout",
     "output_type": "stream",
     "text": [
      "nomatch_dict_key 1 || station Plaza de Mayo || complete Plaza de los Virreyes - Eva Peron || count 1\n",
      "nomatch_dict_key 1 || station Plaza Miserere || complete Plaza de los Virreyes - Eva Peron || count 1\n",
      "nomatch_dict_key 1 || station Plaza Italia || complete Plaza de los Virreyes - Eva Peron || count 1\n",
      "nomatch_dict_key 1 || station Plaza de los Virreyes Eva Peron || complete Plaza de los Virreyes - Eva Peron || count 1\n",
      "nomatch_dict_key 1 || station Plaza de los Virreyes Eva Peron || complete Plaza de los Virreyes - Eva Peron || count 2\n",
      "nomatch_dict_key 1 || station Plaza de los Virreyes Eva Peron || complete Plaza de los Virreyes - Eva Peron || count 3\n",
      "nomatch_dict_key 1 || station Plaza de los Virreyes Eva Peron || complete Plaza de los Virreyes - Eva Peron || count 4\n",
      "nomatch_dict_key 6 || station Av. La Plata || complete Avenida La Plata || count 1\n",
      "nomatch_dict_key 11 || station Entre Rios Rodolfo Walsh || complete Entre Rios - Rodolfo Walsh || count 1\n",
      "nomatch_dict_key 11 || station Entre Rios Rodolfo Walsh || complete Entre Rios - Rodolfo Walsh || count 2\n",
      "nomatch_dict_key 11 || station Entre Rios Rodolfo Walsh || complete Entre Rios - Rodolfo Walsh || count 3\n",
      "nomatch_dict_key 11 || station Entre Rios Rodolfo Walsh || complete Entre Rios - Rodolfo Walsh || count 4\n",
      "nomatch_dict_key 14 || station Independencia || complete Independencia (E) || count 1\n",
      "nomatch_dict_key 14 || station Independencia || complete Independencia (E) || count 2\n",
      "nomatch_dict_key 15 || station Independencia || complete Independencia (C) || count 3\n",
      "nomatch_dict_key 15 || station Independencia || complete Independencia (C) || count 4\n",
      "nomatch_dict_key 24 || station Juan Manuel de Rosas Villa Urquiza || complete General Urquiza || count 1\n",
      "nomatch_dict_key 24 || station General San Martin || complete General Urquiza || count 1\n",
      "nomatch_dict_key 24 || station Gral. Urquiza || complete General Urquiza || count 1\n",
      "nomatch_dict_key 24 || station General Savio || complete General Urquiza || count 1\n",
      "nomatch_dict_key 58 || station Malabia O. Pugliese || complete Malabia - Osvaldo Pugliese || count 1\n",
      "nomatch_dict_key 58 || station Malabia O. Pugliese || complete Malabia - Osvaldo Pugliese || count 2\n",
      "nomatch_dict_key 52 || station Pasteur Amia || complete Pasteur - AMIA || count 1\n",
      "nomatch_dict_key 46 || station Alberti || complete Inclan-Mezquita Al Ahmad || count 1\n",
      "nomatch_dict_key 46 || station Leandro N. Alem || complete Inclan-Mezquita Al Ahmad || count 1\n",
      "nomatch_dict_key 46 || station Inclan || complete Inclan-Mezquita Al Ahmad || count 1\n",
      "nomatch_dict_key 56 || station Medrano || complete Medrano-Almagro || count 1\n",
      "nomatch_dict_key 26 || station Tribunales Teatro Colon || complete Tribunales || count 1\n",
      "nomatch_dict_key 27 || station Callao || complete Callao (D) || count 1\n",
      "nomatch_dict_key 27 || station Callao || complete Callao (D) || count 2\n",
      "nomatch_dict_key 60 || station F. Lacroze || complete Federico Lacroze || count 1\n",
      "nomatch_dict_key 61 || station Tronador Villa Ortuzar || complete Tronador - Villa Ortuzar || count 1\n",
      "nomatch_dict_key 61 || station Tronador Villa Ortuzar || complete Tronador - Villa Ortuzar || count 2\n",
      "nomatch_dict_key 61 || station Tronador Villa Ortuzar || complete Tronador - Villa Ortuzar || count 3\n",
      "nomatch_dict_key 61 || station Juan Manuel de Rosas Villa Urquiza || complete Tronador - Villa Ortuzar || count 2\n",
      "nomatch_dict_key 62 || station De los Incas Parque Chas || complete Los Incas - Parque Chas || count 1\n",
      "nomatch_dict_key 62 || station De los Incas Parque Chas || complete Los Incas - Parque Chas || count 2\n",
      "nomatch_dict_key 62 || station De los Incas Parque Chas || complete Los Incas - Parque Chas || count 3\n",
      "nomatch_dict_key 62 || station Parque Patricios || complete Los Incas - Parque Chas || count 1\n",
      "nomatch_dict_key 62 || station Parque de la Ciudad || complete Los Incas - Parque Chas || count 1\n",
      "nomatch_dict_key 31 || station Pueyrredon || complete Pueyrredon (D) || count 1\n",
      "nomatch_dict_key 31 || station Pueyrredon || complete Pueyrredon (D) || count 2\n"
     ]
    },
    {
     "ename": "NameError",
     "evalue": "name 'f' is not defined",
     "output_type": "error",
     "traceback": [
      "\u001b[0;31m---------------------------------------------------------------------------\u001b[0m",
      "\u001b[0;31mNameError\u001b[0m                                 Traceback (most recent call last)",
      "\u001b[0;32m<ipython-input-83-3e3b61c1cbc5>\u001b[0m in \u001b[0;36m<module>\u001b[0;34m()\u001b[0m\n\u001b[1;32m     30\u001b[0m \u001b[0;32mfor\u001b[0m \u001b[0mkey\u001b[0m \u001b[0;32min\u001b[0m \u001b[0mdict_of_tokeners\u001b[0m\u001b[0;34m.\u001b[0m\u001b[0mkeys\u001b[0m\u001b[0;34m(\u001b[0m\u001b[0;34m)\u001b[0m\u001b[0;34m:\u001b[0m\u001b[0;34m\u001b[0m\u001b[0m\n\u001b[1;32m     31\u001b[0m     \u001b[0mreview_nomatch\u001b[0m\u001b[0;34m(\u001b[0m\u001b[0mdict_of_tokeners\u001b[0m\u001b[0;34m[\u001b[0m\u001b[0mkey\u001b[0m\u001b[0;34m]\u001b[0m\u001b[0;34m,\u001b[0m \u001b[0mkey\u001b[0m\u001b[0;34m)\u001b[0m\u001b[0;34m\u001b[0m\u001b[0m\n\u001b[0;32m---> 32\u001b[0;31m \u001b[0mf\u001b[0m\u001b[0;31m#or key in nomatch_to_match.keys():\u001b[0m\u001b[0;34m\u001b[0m\u001b[0m\n\u001b[0m\u001b[1;32m     33\u001b[0m  \u001b[0;31m#   print key, nomatch_to_match[key]\u001b[0m\u001b[0;34m\u001b[0m\u001b[0;34m\u001b[0m\u001b[0m\n",
      "\u001b[0;31mNameError\u001b[0m: name 'f' is not defined"
     ]
    }
   ],
   "source": [
    "tokens_to_ignore = [\" de \", \" los \", \"-\", \" La \", \" Los \", \"los\", \"\\(E\\)\", \"\\(C\\)\", \"\\(D\\)\"]\n",
    "## split each station name in final_normalization in tokens ignoring the ones in tokens_to_ignore\n",
    "pattern = '|'.join(tokens_to_ignore)\n",
    "# print pattern\n",
    "dict_of_tokeners = {}\n",
    "match_counter = defaultdict(int)\n",
    "list_to_table = {}\n",
    "\n",
    "def split_nomatch():\n",
    "    for key in nomatch_stations.keys():        \n",
    "        tokeners = re.sub(pattern, ' ', nomatch_stations[key])\n",
    "        dict_of_tokeners[key] = tokeners\n",
    "    \n",
    "    # tokens = station.split()\n",
    "split_nomatch()\n",
    "\n",
    "def review_nomatch(tokener, key):\n",
    "    nomatch_dict_key = key\n",
    "    tokis = tokener.split()\n",
    "    for station in normalized_stations.all_stations():\n",
    "        for tok in tokis:\n",
    "            if tok in station:\n",
    "                match_counter[station] += 1\n",
    "                print \"nomatch_dict_key {} || station {} || complete {} || count {}\".format(nomatch_dict_key,station,nomatch_stations[nomatch_dict_key], match_counter[station])\n",
    "                \n",
    "\n",
    "\n",
    "\n",
    "\n",
    "for key in dict_of_tokeners.keys():\n",
    "    review_nomatch(dict_of_tokeners[key], key)\n",
    "f#or key in nomatch_to_match.keys():\n",
    " #   print key, nomatch_to_match[key]"
   ]
  },
  {
   "cell_type": "code",
   "execution_count": null,
   "metadata": {
    "collapsed": false
   },
   "outputs": [],
   "source": []
  },
  {
   "cell_type": "code",
   "execution_count": null,
   "metadata": {
    "collapsed": false
   },
   "outputs": [],
   "source": []
  }
 ],
 "metadata": {
  "kernelspec": {
   "display_name": "Python 2",
   "language": "python",
   "name": "python2"
  },
  "language_info": {
   "codemirror_mode": {
    "name": "ipython",
    "version": 2
   },
   "file_extension": ".py",
   "mimetype": "text/x-python",
   "name": "python",
   "nbconvert_exporter": "python",
   "pygments_lexer": "ipython2",
   "version": "2.7.13"
  }
 },
 "nbformat": 4,
 "nbformat_minor": 2
}
